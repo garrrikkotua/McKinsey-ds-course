{
 "cells": [
  {
   "cell_type": "code",
   "execution_count": 33,
   "metadata": {},
   "outputs": [],
   "source": [
    "import pandas as pd\n",
    "from bs4 import BeautifulSoup\n",
    "import requests\n",
    "import numpy as np"
   ]
  },
  {
   "cell_type": "code",
   "execution_count": 34,
   "metadata": {},
   "outputs": [
    {
     "data": {
      "text/plain": [
       "200"
      ]
     },
     "execution_count": 34,
     "metadata": {},
     "output_type": "execute_result"
    }
   ],
   "source": [
    "url = 'https://www.raiffeisen.ru/offices/?active_tab=tab-1'\n",
    "headers = requests.utils.default_headers()\n",
    "#headers.update({'User-Agent': 'Mozilla/5.0 (X11; Ubuntu; Linux x86_64; rv:52.0) Gecko/20100101 Firefox/52.0'})\n",
    "response = requests.get(url)\n",
    "response.status_code"
   ]
  },
  {
   "cell_type": "code",
   "execution_count": 93,
   "metadata": {},
   "outputs": [
    {
     "name": "stderr",
     "output_type": "stream",
     "text": [
      "C:\\ProgramData\\Anaconda3\\lib\\site-packages\\ipykernel_launcher.py:7: DeprecationWarning: use options instead of chrome_options\n",
      "  import sys\n"
     ]
    }
   ],
   "source": [
    "from selenium import webdriver\n",
    "\n",
    "options = webdriver.ChromeOptions()\n",
    "options.add_argument('--ignore-certificate-errors')\n",
    "options.add_argument('--incognito')\n",
    "options.add_argument('--headless')\n",
    "driver = webdriver.Chrome('C:/ChromeDriver/chromedriver.exe', chrome_options=options)"
   ]
  },
  {
   "cell_type": "code",
   "execution_count": 99,
   "metadata": {},
   "outputs": [],
   "source": [
    "driver.get(url)\n",
    "switch_buttons = driver.find_elements_by_class_name(\"b-switch__block\")"
   ]
  },
  {
   "cell_type": "code",
   "execution_count": 100,
   "metadata": {},
   "outputs": [
    {
     "data": {
      "text/plain": [
       "[<selenium.webdriver.remote.webelement.WebElement (session=\"15abbd484b71796cf1f3a51af402f259\", element=\"790d3658-afb5-486d-b25b-ea85d9962fc1\")>,\n",
       " <selenium.webdriver.remote.webelement.WebElement (session=\"15abbd484b71796cf1f3a51af402f259\", element=\"a0b6d537-a328-490b-a7b6-2e4721745506\")>]"
      ]
     },
     "execution_count": 100,
     "metadata": {},
     "output_type": "execute_result"
    }
   ],
   "source": [
    "switch_buttons"
   ]
  },
  {
   "cell_type": "code",
   "execution_count": 101,
   "metadata": {},
   "outputs": [],
   "source": [
    "for x in range(len(switch_buttons)):\n",
    "    if switch_buttons[x].is_displayed():\n",
    "        driver.execute_script(\"arguments[0].click();\", switch_buttons[x])"
   ]
  },
  {
   "cell_type": "code",
   "execution_count": 102,
   "metadata": {},
   "outputs": [],
   "source": [
    "import time"
   ]
  },
  {
   "cell_type": "code",
   "execution_count": 103,
   "metadata": {},
   "outputs": [
    {
     "name": "stdout",
     "output_type": "stream",
     "text": [
      "pressed\n",
      "\n",
      "pressed\n",
      "\n",
      "pressed\n",
      "\n",
      "pressed\n",
      "\n",
      "pressed\n",
      "\n",
      "pressed\n",
      "\n",
      "pressed\n",
      "\n",
      "pressed\n",
      "\n",
      "pressed\n",
      "\n",
      "pressed\n",
      "\n",
      "pressed\n",
      "\n",
      "pressed\n",
      "\n",
      "pressed\n",
      "\n",
      "pressed\n",
      "\n",
      "pressed\n",
      "\n",
      "pressed\n",
      "\n",
      "pressed\n",
      "\n",
      "pressed\n",
      "\n",
      "pressed\n",
      "\n",
      "pressed\n",
      "\n",
      "pressed\n",
      "\n",
      "pressed\n",
      "\n",
      "pressed\n",
      "\n",
      "pressed\n",
      "\n",
      "pressed\n",
      "\n",
      "pressed\n",
      "\n",
      "pressed\n",
      "\n",
      "pressed\n",
      "\n",
      "pressed\n",
      "\n"
     ]
    }
   ],
   "source": [
    "more_buttons = driver.find_elements_by_class_name(\"load-more\")\n",
    "while True:\n",
    "    buttons_clicked = 0\n",
    "    for x in range(len(more_buttons)):\n",
    "        if more_buttons[x].is_displayed():\n",
    "            driver.execute_script(\"arguments[0].click();\", more_buttons[x])\n",
    "            time.sleep(1)\n",
    "            buttons_clicked += 1\n",
    "            print('pressed\\n')\n",
    "    more_buttons = driver.find_elements_by_class_name(\"load-more\")\n",
    "    if len(more_buttons) == 0 or buttons_clicked == 0:\n",
    "        break"
   ]
  },
  {
   "cell_type": "code",
   "execution_count": 104,
   "metadata": {},
   "outputs": [],
   "source": [
    "soup = BeautifulSoup(driver.page_source, 'html5lib')"
   ]
  },
  {
   "cell_type": "code",
   "execution_count": 105,
   "metadata": {},
   "outputs": [],
   "source": [
    "from collections import defaultdict"
   ]
  },
  {
   "cell_type": "code",
   "execution_count": 133,
   "metadata": {},
   "outputs": [],
   "source": [
    "dic = defaultdict(dict)\n",
    "all_opts = set()\n",
    "for i, data in enumerate(soup.find_all('div', {'class' : 'container e-office-item pb-16 pt-24'})):\n",
    "    descr = data.find('div', class_='e-office-item__half')\n",
    "    dic[i]['city'] = descr.a.text.strip().split(',')[0]\n",
    "    arr = eval(descr.a['data-coords'])\n",
    "    dic[i]['latitude'] = arr[0]\n",
    "    dic[i]['longitude'] = arr[1]\n",
    "    options = data.find('ul', class_='e-office-item__options')\n",
    "    dic[i]['options'] = []\n",
    "    for li in options.find_all('li'):\n",
    "        dic[i]['options'].append(li.text)\n",
    "        all_opts.add(li.text)\n",
    "    work_hours = data.find('div', class_='e-office-item__time mb-16').text.split(', ')\n",
    "    if len(work_hours) == 1:\n",
    "        dic[i]['work_day_hours'] = work_hours[0][len('пн-пт: '):].strip()\n",
    "        dic[i]['holiday_hours'] = 'not working'\n",
    "    elif len(work_hours) == 2:\n",
    "        dic[i]['work_day_hours'] = work_hours[0][len('пн-пт:'):].strip()\n",
    "        dic[i]['holiday_hours'] = work_hours[1][len('сб: '):].strip()"
   ]
  },
  {
   "cell_type": "code",
   "execution_count": 135,
   "metadata": {},
   "outputs": [],
   "source": [
    "all_opts = list(all_opts)"
   ]
  },
  {
   "cell_type": "code",
   "execution_count": 138,
   "metadata": {},
   "outputs": [],
   "source": [
    "with open('raiffeisen.csv', 'w+', encoding='UTF-8') as f:\n",
    "    f.write('office_id' + ', ' + 'city' + ', ' + 'latitude' + ', ' + 'longitude' + ', ' + 'work_day_hours' + ', ' + 'holiday_hours')\n",
    "    f.write(', ' + ', '.join(['opt_{}'.format(i) for i in range(17)]))\n",
    "    f.write('\\n')\n",
    "    for key in dic:\n",
    "        f.write(str(key) + \", \" + str(dic[key]['city']) + ', ' + str(dic[key]['latitude']))\n",
    "        f.write(', ' + str(dic[key]['longitude']) + ', ' + dic[key]['work_day_hours'] + ', ' + dic[key]['holiday_hours'])\n",
    "        for opt in all_opts:\n",
    "            if opt in dic[key]['options']:\n",
    "                f.write(', 1')\n",
    "            else:\n",
    "                f.write(', 0')\n",
    "        f.write('\\n')"
   ]
  },
  {
   "cell_type": "code",
   "execution_count": 136,
   "metadata": {},
   "outputs": [
    {
     "data": {
      "text/plain": [
       "['Банкомат 24 часа',\n",
       " 'Зона обслуживания Premium Banking',\n",
       " 'Кредитование корпоративного и среднего бизнеса',\n",
       " 'Детский уголок',\n",
       " 'Получение кредитной, дебетовой карты или карты, на которую зачислен кредит',\n",
       " 'Сейфовые ячейки',\n",
       " 'РКО корпоративного и среднего бизнеса',\n",
       " 'Зона обслуживания Private Banking',\n",
       " 'Адаптировано для лиц с ограниченными возможностями',\n",
       " 'Обмен валюты',\n",
       " 'Сбор данных в ЕБС',\n",
       " 'Кредитование малого бизнеса',\n",
       " 'РКО малого бизнеса',\n",
       " 'Обслуживание физических лиц',\n",
       " 'Центр обслуживания ЕСИА',\n",
       " 'Электронная очередь',\n",
       " 'Ипотечный центр']"
      ]
     },
     "execution_count": 136,
     "metadata": {},
     "output_type": "execute_result"
    }
   ],
   "source": [
    "all_opts"
   ]
  },
  {
   "cell_type": "code",
   "execution_count": 141,
   "metadata": {},
   "outputs": [],
   "source": [
    "with open('options_dict.csv', 'w+', encoding='UTF-8') as f:\n",
    "    f.write('code' + \", \" + \"option_real_name\")\n",
    "    f.write('\\n')\n",
    "    for i, opt in enumerate(all_opts):\n",
    "        f.write('opt_{}'.format(i) + ', ' + ' '.join(opt.split(', ')))\n",
    "        f.write('\\n')"
   ]
  },
  {
   "cell_type": "code",
   "execution_count": null,
   "metadata": {},
   "outputs": [],
   "source": []
  }
 ],
 "metadata": {
  "kernelspec": {
   "display_name": "Python 3",
   "language": "python",
   "name": "python3"
  },
  "language_info": {
   "codemirror_mode": {
    "name": "ipython",
    "version": 3
   },
   "file_extension": ".py",
   "mimetype": "text/x-python",
   "name": "python",
   "nbconvert_exporter": "python",
   "pygments_lexer": "ipython3",
   "version": "3.7.3"
  }
 },
 "nbformat": 4,
 "nbformat_minor": 2
}
